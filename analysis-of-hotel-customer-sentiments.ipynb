{
 "cells": [
  {
   "cell_type": "markdown",
   "id": "63952603",
   "metadata": {
    "papermill": {
     "duration": 0.004848,
     "end_time": "2023-01-13T05:06:27.180539",
     "exception": false,
     "start_time": "2023-01-13T05:06:27.175691",
     "status": "completed"
    },
    "tags": []
   },
   "source": [
    "# Analysis of Hotel Customer Sentiments\n",
    "\n",
    "- Sentiment analysis is part of the Natural Language Processing (NLP) techniques that consists in extracting emotions related to some raw texts. This is usually used on social media posts and customer reviews in order to automatically understand if some users are positive or negative and why. The goal of this study is to show how sentiment analysis can be performed using python. Here are some of the main libraries we will use:\n",
    "\n",
    "  - NLTK: the most famous python module for NLP techniques\n",
    "  - Gensim: a topic-modeling and vector space modeling toolkit\n",
    "  - Scikit-learn: the most used python machine-learning library\n",
    "\n",
    "- We will use here some hotel review data. Each observation consists of one customer review for one hotel. Each customer review is composed of textual feedback of the customer's experience at the hotel and an overall rating. \n",
    "\n",
    "- For each textual review, we want to predict if it corresponds to a good review (the customer is happy) or to a bad one (the customer is not satisfied). The review's overall ratings can range from 2.5/10 to 10/10. \n",
    "  - In order to simplify the problem we will split those into two categories:\n",
    "\n",
    "    - bad reviews have overall ratings < 5\n",
    "    - good reviews have overall ratings >= 5\n",
    "\n",
    "- The challenge here is to be able to predict this information using only the raw textual data from the review.\n"
   ]
  },
  {
   "cell_type": "markdown",
   "id": "913da945",
   "metadata": {
    "papermill": {
     "duration": 0.003487,
     "end_time": "2023-01-13T05:06:27.187991",
     "exception": false,
     "start_time": "2023-01-13T05:06:27.184504",
     "status": "completed"
    },
    "tags": []
   },
   "source": [
    "# Import library"
   ]
  },
  {
   "cell_type": "code",
   "execution_count": 1,
   "id": "1b02d6c9",
   "metadata": {
    "_cell_guid": "b1076dfc-b9ad-4769-8c92-a6c4dae69d19",
    "_uuid": "8f2839f25d086af736a60e9eeb907d3b93b6e0e5",
    "execution": {
     "iopub.execute_input": "2023-01-13T05:06:27.198252Z",
     "iopub.status.busy": "2023-01-13T05:06:27.197581Z",
     "iopub.status.idle": "2023-01-13T05:06:27.210619Z",
     "shell.execute_reply": "2023-01-13T05:06:27.209693Z"
    },
    "papermill": {
     "duration": 0.021484,
     "end_time": "2023-01-13T05:06:27.213226",
     "exception": false,
     "start_time": "2023-01-13T05:06:27.191742",
     "status": "completed"
    },
    "tags": []
   },
   "outputs": [],
   "source": [
    "import pandas as pd"
   ]
  },
  {
   "cell_type": "markdown",
   "id": "b58c14b3",
   "metadata": {
    "papermill": {
     "duration": 0.003446,
     "end_time": "2023-01-13T05:06:27.220484",
     "exception": false,
     "start_time": "2023-01-13T05:06:27.217038",
     "status": "completed"
    },
    "tags": []
   },
   "source": [
    "## Read data"
   ]
  },
  {
   "cell_type": "code",
   "execution_count": 2,
   "id": "ee7b6e4a",
   "metadata": {
    "execution": {
     "iopub.execute_input": "2023-01-13T05:06:27.229810Z",
     "iopub.status.busy": "2023-01-13T05:06:27.229089Z",
     "iopub.status.idle": "2023-01-13T05:06:33.631982Z",
     "shell.execute_reply": "2023-01-13T05:06:33.630491Z"
    },
    "papermill": {
     "duration": 6.41111,
     "end_time": "2023-01-13T05:06:33.635246",
     "exception": false,
     "start_time": "2023-01-13T05:06:27.224136",
     "status": "completed"
    },
    "tags": []
   },
   "outputs": [],
   "source": [
    "reviews_df = pd.read_csv(\"/kaggle/input/515k-hotel-reviews-data-in-europe/Hotel_Reviews.csv\")"
   ]
  },
  {
   "cell_type": "code",
   "execution_count": 3,
   "id": "519e32a7",
   "metadata": {
    "execution": {
     "iopub.execute_input": "2023-01-13T05:06:33.645945Z",
     "iopub.status.busy": "2023-01-13T05:06:33.644866Z",
     "iopub.status.idle": "2023-01-13T05:06:33.683314Z",
     "shell.execute_reply": "2023-01-13T05:06:33.681636Z"
    },
    "papermill": {
     "duration": 0.04641,
     "end_time": "2023-01-13T05:06:33.686037",
     "exception": false,
     "start_time": "2023-01-13T05:06:33.639627",
     "status": "completed"
    },
    "tags": []
   },
   "outputs": [
    {
     "data": {
      "text/html": [
       "<div>\n",
       "<style scoped>\n",
       "    .dataframe tbody tr th:only-of-type {\n",
       "        vertical-align: middle;\n",
       "    }\n",
       "\n",
       "    .dataframe tbody tr th {\n",
       "        vertical-align: top;\n",
       "    }\n",
       "\n",
       "    .dataframe thead th {\n",
       "        text-align: right;\n",
       "    }\n",
       "</style>\n",
       "<table border=\"1\" class=\"dataframe\">\n",
       "  <thead>\n",
       "    <tr style=\"text-align: right;\">\n",
       "      <th></th>\n",
       "      <th>Hotel_Address</th>\n",
       "      <th>Additional_Number_of_Scoring</th>\n",
       "      <th>Review_Date</th>\n",
       "      <th>Average_Score</th>\n",
       "      <th>Hotel_Name</th>\n",
       "      <th>Reviewer_Nationality</th>\n",
       "      <th>Negative_Review</th>\n",
       "      <th>Review_Total_Negative_Word_Counts</th>\n",
       "      <th>Total_Number_of_Reviews</th>\n",
       "      <th>Positive_Review</th>\n",
       "      <th>Review_Total_Positive_Word_Counts</th>\n",
       "      <th>Total_Number_of_Reviews_Reviewer_Has_Given</th>\n",
       "      <th>Reviewer_Score</th>\n",
       "      <th>Tags</th>\n",
       "      <th>days_since_review</th>\n",
       "      <th>lat</th>\n",
       "      <th>lng</th>\n",
       "    </tr>\n",
       "  </thead>\n",
       "  <tbody>\n",
       "    <tr>\n",
       "      <th>0</th>\n",
       "      <td>s Gravesandestraat 55 Oost 1092 AA Amsterdam ...</td>\n",
       "      <td>194</td>\n",
       "      <td>8/3/2017</td>\n",
       "      <td>7.7</td>\n",
       "      <td>Hotel Arena</td>\n",
       "      <td>Russia</td>\n",
       "      <td>I am so angry that i made this post available...</td>\n",
       "      <td>397</td>\n",
       "      <td>1403</td>\n",
       "      <td>Only the park outside of the hotel was beauti...</td>\n",
       "      <td>11</td>\n",
       "      <td>7</td>\n",
       "      <td>2.9</td>\n",
       "      <td>[' Leisure trip ', ' Couple ', ' Duplex Double...</td>\n",
       "      <td>0 days</td>\n",
       "      <td>52.360576</td>\n",
       "      <td>4.915968</td>\n",
       "    </tr>\n",
       "    <tr>\n",
       "      <th>1</th>\n",
       "      <td>s Gravesandestraat 55 Oost 1092 AA Amsterdam ...</td>\n",
       "      <td>194</td>\n",
       "      <td>8/3/2017</td>\n",
       "      <td>7.7</td>\n",
       "      <td>Hotel Arena</td>\n",
       "      <td>Ireland</td>\n",
       "      <td>No Negative</td>\n",
       "      <td>0</td>\n",
       "      <td>1403</td>\n",
       "      <td>No real complaints the hotel was great great ...</td>\n",
       "      <td>105</td>\n",
       "      <td>7</td>\n",
       "      <td>7.5</td>\n",
       "      <td>[' Leisure trip ', ' Couple ', ' Duplex Double...</td>\n",
       "      <td>0 days</td>\n",
       "      <td>52.360576</td>\n",
       "      <td>4.915968</td>\n",
       "    </tr>\n",
       "    <tr>\n",
       "      <th>2</th>\n",
       "      <td>s Gravesandestraat 55 Oost 1092 AA Amsterdam ...</td>\n",
       "      <td>194</td>\n",
       "      <td>7/31/2017</td>\n",
       "      <td>7.7</td>\n",
       "      <td>Hotel Arena</td>\n",
       "      <td>Australia</td>\n",
       "      <td>Rooms are nice but for elderly a bit difficul...</td>\n",
       "      <td>42</td>\n",
       "      <td>1403</td>\n",
       "      <td>Location was good and staff were ok It is cut...</td>\n",
       "      <td>21</td>\n",
       "      <td>9</td>\n",
       "      <td>7.1</td>\n",
       "      <td>[' Leisure trip ', ' Family with young childre...</td>\n",
       "      <td>3 days</td>\n",
       "      <td>52.360576</td>\n",
       "      <td>4.915968</td>\n",
       "    </tr>\n",
       "    <tr>\n",
       "      <th>3</th>\n",
       "      <td>s Gravesandestraat 55 Oost 1092 AA Amsterdam ...</td>\n",
       "      <td>194</td>\n",
       "      <td>7/31/2017</td>\n",
       "      <td>7.7</td>\n",
       "      <td>Hotel Arena</td>\n",
       "      <td>United Kingdom</td>\n",
       "      <td>My room was dirty and I was afraid to walk ba...</td>\n",
       "      <td>210</td>\n",
       "      <td>1403</td>\n",
       "      <td>Great location in nice surroundings the bar a...</td>\n",
       "      <td>26</td>\n",
       "      <td>1</td>\n",
       "      <td>3.8</td>\n",
       "      <td>[' Leisure trip ', ' Solo traveler ', ' Duplex...</td>\n",
       "      <td>3 days</td>\n",
       "      <td>52.360576</td>\n",
       "      <td>4.915968</td>\n",
       "    </tr>\n",
       "    <tr>\n",
       "      <th>4</th>\n",
       "      <td>s Gravesandestraat 55 Oost 1092 AA Amsterdam ...</td>\n",
       "      <td>194</td>\n",
       "      <td>7/24/2017</td>\n",
       "      <td>7.7</td>\n",
       "      <td>Hotel Arena</td>\n",
       "      <td>New Zealand</td>\n",
       "      <td>You When I booked with your company on line y...</td>\n",
       "      <td>140</td>\n",
       "      <td>1403</td>\n",
       "      <td>Amazing location and building Romantic setting</td>\n",
       "      <td>8</td>\n",
       "      <td>3</td>\n",
       "      <td>6.7</td>\n",
       "      <td>[' Leisure trip ', ' Couple ', ' Suite ', ' St...</td>\n",
       "      <td>10 days</td>\n",
       "      <td>52.360576</td>\n",
       "      <td>4.915968</td>\n",
       "    </tr>\n",
       "  </tbody>\n",
       "</table>\n",
       "</div>"
      ],
      "text/plain": [
       "                                       Hotel_Address  \\\n",
       "0   s Gravesandestraat 55 Oost 1092 AA Amsterdam ...   \n",
       "1   s Gravesandestraat 55 Oost 1092 AA Amsterdam ...   \n",
       "2   s Gravesandestraat 55 Oost 1092 AA Amsterdam ...   \n",
       "3   s Gravesandestraat 55 Oost 1092 AA Amsterdam ...   \n",
       "4   s Gravesandestraat 55 Oost 1092 AA Amsterdam ...   \n",
       "\n",
       "   Additional_Number_of_Scoring Review_Date  Average_Score   Hotel_Name  \\\n",
       "0                           194    8/3/2017            7.7  Hotel Arena   \n",
       "1                           194    8/3/2017            7.7  Hotel Arena   \n",
       "2                           194   7/31/2017            7.7  Hotel Arena   \n",
       "3                           194   7/31/2017            7.7  Hotel Arena   \n",
       "4                           194   7/24/2017            7.7  Hotel Arena   \n",
       "\n",
       "  Reviewer_Nationality                                    Negative_Review  \\\n",
       "0              Russia    I am so angry that i made this post available...   \n",
       "1             Ireland                                         No Negative   \n",
       "2           Australia    Rooms are nice but for elderly a bit difficul...   \n",
       "3      United Kingdom    My room was dirty and I was afraid to walk ba...   \n",
       "4         New Zealand    You When I booked with your company on line y...   \n",
       "\n",
       "   Review_Total_Negative_Word_Counts  Total_Number_of_Reviews  \\\n",
       "0                                397                     1403   \n",
       "1                                  0                     1403   \n",
       "2                                 42                     1403   \n",
       "3                                210                     1403   \n",
       "4                                140                     1403   \n",
       "\n",
       "                                     Positive_Review  \\\n",
       "0   Only the park outside of the hotel was beauti...   \n",
       "1   No real complaints the hotel was great great ...   \n",
       "2   Location was good and staff were ok It is cut...   \n",
       "3   Great location in nice surroundings the bar a...   \n",
       "4    Amazing location and building Romantic setting    \n",
       "\n",
       "   Review_Total_Positive_Word_Counts  \\\n",
       "0                                 11   \n",
       "1                                105   \n",
       "2                                 21   \n",
       "3                                 26   \n",
       "4                                  8   \n",
       "\n",
       "   Total_Number_of_Reviews_Reviewer_Has_Given  Reviewer_Score  \\\n",
       "0                                           7             2.9   \n",
       "1                                           7             7.5   \n",
       "2                                           9             7.1   \n",
       "3                                           1             3.8   \n",
       "4                                           3             6.7   \n",
       "\n",
       "                                                Tags days_since_review  \\\n",
       "0  [' Leisure trip ', ' Couple ', ' Duplex Double...            0 days   \n",
       "1  [' Leisure trip ', ' Couple ', ' Duplex Double...            0 days   \n",
       "2  [' Leisure trip ', ' Family with young childre...            3 days   \n",
       "3  [' Leisure trip ', ' Solo traveler ', ' Duplex...            3 days   \n",
       "4  [' Leisure trip ', ' Couple ', ' Suite ', ' St...           10 days   \n",
       "\n",
       "         lat       lng  \n",
       "0  52.360576  4.915968  \n",
       "1  52.360576  4.915968  \n",
       "2  52.360576  4.915968  \n",
       "3  52.360576  4.915968  \n",
       "4  52.360576  4.915968  "
      ]
     },
     "execution_count": 3,
     "metadata": {},
     "output_type": "execute_result"
    }
   ],
   "source": [
    "reviews_df.head()"
   ]
  },
  {
   "cell_type": "markdown",
   "id": "f323fefb",
   "metadata": {
    "papermill": {
     "duration": 0.003784,
     "end_time": "2023-01-13T05:06:33.694123",
     "exception": false,
     "start_time": "2023-01-13T05:06:33.690339",
     "status": "completed"
    },
    "tags": []
   },
   "source": [
    "### Append the positive and negative text reviews"
   ]
  },
  {
   "cell_type": "code",
   "execution_count": 4,
   "id": "26ad1dc4",
   "metadata": {
    "execution": {
     "iopub.execute_input": "2023-01-13T05:06:33.704086Z",
     "iopub.status.busy": "2023-01-13T05:06:33.703643Z",
     "iopub.status.idle": "2023-01-13T05:06:33.887067Z",
     "shell.execute_reply": "2023-01-13T05:06:33.885711Z"
    },
    "papermill": {
     "duration": 0.191876,
     "end_time": "2023-01-13T05:06:33.890052",
     "exception": false,
     "start_time": "2023-01-13T05:06:33.698176",
     "status": "completed"
    },
    "tags": []
   },
   "outputs": [],
   "source": [
    "reviews_df[\"review\"] = reviews_df[\"Negative_Review\"] + reviews_df[\"Positive_Review\"]"
   ]
  },
  {
   "cell_type": "markdown",
   "id": "0253942a",
   "metadata": {
    "papermill": {
     "duration": 0.00374,
     "end_time": "2023-01-13T05:06:33.897935",
     "exception": false,
     "start_time": "2023-01-13T05:06:33.894195",
     "status": "completed"
    },
    "tags": []
   },
   "source": [
    "### Create the label"
   ]
  },
  {
   "cell_type": "code",
   "execution_count": 5,
   "id": "cd0c7f98",
   "metadata": {
    "execution": {
     "iopub.execute_input": "2023-01-13T05:06:33.907628Z",
     "iopub.status.busy": "2023-01-13T05:06:33.907232Z",
     "iopub.status.idle": "2023-01-13T05:06:34.156371Z",
     "shell.execute_reply": "2023-01-13T05:06:34.154668Z"
    },
    "papermill": {
     "duration": 0.257348,
     "end_time": "2023-01-13T05:06:34.159264",
     "exception": false,
     "start_time": "2023-01-13T05:06:33.901916",
     "status": "completed"
    },
    "tags": []
   },
   "outputs": [],
   "source": [
    "reviews_df[\"is_bad_review\"] = reviews_df[\"Reviewer_Score\"].apply(lambda x: 1 if x < 5 else 0)"
   ]
  },
  {
   "cell_type": "markdown",
   "id": "22180add",
   "metadata": {
    "papermill": {
     "duration": 0.003798,
     "end_time": "2023-01-13T05:06:34.167416",
     "exception": false,
     "start_time": "2023-01-13T05:06:34.163618",
     "status": "completed"
    },
    "tags": []
   },
   "source": [
    "### Select only relevant columns"
   ]
  },
  {
   "cell_type": "code",
   "execution_count": 6,
   "id": "31b13b0d",
   "metadata": {
    "execution": {
     "iopub.execute_input": "2023-01-13T05:06:34.177600Z",
     "iopub.status.busy": "2023-01-13T05:06:34.177177Z",
     "iopub.status.idle": "2023-01-13T05:06:34.460847Z",
     "shell.execute_reply": "2023-01-13T05:06:34.459667Z"
    },
    "papermill": {
     "duration": 0.291954,
     "end_time": "2023-01-13T05:06:34.463479",
     "exception": false,
     "start_time": "2023-01-13T05:06:34.171525",
     "status": "completed"
    },
    "tags": []
   },
   "outputs": [
    {
     "data": {
      "text/html": [
       "<div>\n",
       "<style scoped>\n",
       "    .dataframe tbody tr th:only-of-type {\n",
       "        vertical-align: middle;\n",
       "    }\n",
       "\n",
       "    .dataframe tbody tr th {\n",
       "        vertical-align: top;\n",
       "    }\n",
       "\n",
       "    .dataframe thead th {\n",
       "        text-align: right;\n",
       "    }\n",
       "</style>\n",
       "<table border=\"1\" class=\"dataframe\">\n",
       "  <thead>\n",
       "    <tr style=\"text-align: right;\">\n",
       "      <th></th>\n",
       "      <th>review</th>\n",
       "      <th>is_bad_review</th>\n",
       "    </tr>\n",
       "  </thead>\n",
       "  <tbody>\n",
       "    <tr>\n",
       "      <th>0</th>\n",
       "      <td>I am so angry that i made this post available...</td>\n",
       "      <td>1</td>\n",
       "    </tr>\n",
       "    <tr>\n",
       "      <th>1</th>\n",
       "      <td>No Negative No real complaints the hotel was g...</td>\n",
       "      <td>0</td>\n",
       "    </tr>\n",
       "    <tr>\n",
       "      <th>2</th>\n",
       "      <td>Rooms are nice but for elderly a bit difficul...</td>\n",
       "      <td>0</td>\n",
       "    </tr>\n",
       "    <tr>\n",
       "      <th>3</th>\n",
       "      <td>My room was dirty and I was afraid to walk ba...</td>\n",
       "      <td>1</td>\n",
       "    </tr>\n",
       "    <tr>\n",
       "      <th>4</th>\n",
       "      <td>You When I booked with your company on line y...</td>\n",
       "      <td>0</td>\n",
       "    </tr>\n",
       "  </tbody>\n",
       "</table>\n",
       "</div>"
      ],
      "text/plain": [
       "                                              review  is_bad_review\n",
       "0   I am so angry that i made this post available...              1\n",
       "1  No Negative No real complaints the hotel was g...              0\n",
       "2   Rooms are nice but for elderly a bit difficul...              0\n",
       "3   My room was dirty and I was afraid to walk ba...              1\n",
       "4   You When I booked with your company on line y...              0"
      ]
     },
     "execution_count": 6,
     "metadata": {},
     "output_type": "execute_result"
    }
   ],
   "source": [
    "reviews_df = reviews_df[[\"review\", \"is_bad_review\"]]\n",
    "reviews_df.head()"
   ]
  },
  {
   "cell_type": "markdown",
   "id": "d097f746",
   "metadata": {
    "papermill": {
     "duration": 0.004062,
     "end_time": "2023-01-13T05:06:34.472022",
     "exception": false,
     "start_time": "2023-01-13T05:06:34.467960",
     "status": "completed"
    },
    "tags": []
   },
   "source": [
    "## Sample data\n",
    "- Reviews data is sampled in order to speed up computations."
   ]
  },
  {
   "cell_type": "code",
   "execution_count": 7,
   "id": "854bafa1",
   "metadata": {
    "execution": {
     "iopub.execute_input": "2023-01-13T05:06:34.482446Z",
     "iopub.status.busy": "2023-01-13T05:06:34.482059Z",
     "iopub.status.idle": "2023-01-13T05:06:34.513937Z",
     "shell.execute_reply": "2023-01-13T05:06:34.512873Z"
    },
    "papermill": {
     "duration": 0.040553,
     "end_time": "2023-01-13T05:06:34.516737",
     "exception": false,
     "start_time": "2023-01-13T05:06:34.476184",
     "status": "completed"
    },
    "tags": []
   },
   "outputs": [],
   "source": [
    "reviews_df = reviews_df.sample(frac = 0.1, replace = False, random_state=42)"
   ]
  }
 ],
 "metadata": {
  "kernelspec": {
   "display_name": "Python 3",
   "language": "python",
   "name": "python3"
  },
  "language_info": {
   "codemirror_mode": {
    "name": "ipython",
    "version": 3
   },
   "file_extension": ".py",
   "mimetype": "text/x-python",
   "name": "python",
   "nbconvert_exporter": "python",
   "pygments_lexer": "ipython3",
   "version": "3.7.12"
  },
  "papermill": {
   "default_parameters": {},
   "duration": 17.135876,
   "end_time": "2023-01-13T05:06:35.243714",
   "environment_variables": {},
   "exception": null,
   "input_path": "__notebook__.ipynb",
   "output_path": "__notebook__.ipynb",
   "parameters": {},
   "start_time": "2023-01-13T05:06:18.107838",
   "version": "2.3.4"
  }
 },
 "nbformat": 4,
 "nbformat_minor": 5
}
